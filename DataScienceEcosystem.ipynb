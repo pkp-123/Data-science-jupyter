{
 "cells": [
  {
   "cell_type": "markdown",
   "id": "99dd34c4-01dc-46ba-9ba0-6776298e34e2",
   "metadata": {},
   "source": [
    "# Data Science Tools and Ecosystem"
   ]
  },
  {
   "cell_type": "markdown",
   "id": "4777d725-87e3-4b8d-bc1b-73faa3fb4a25",
   "metadata": {},
   "source": [
    "In this notebook, Data Science Tools and Ecosystem are summarized."
   ]
  },
  {
   "cell_type": "markdown",
   "id": "cb49305c-8e4e-4a84-bf86-fb56c901b6b4",
   "metadata": {},
   "source": [
    "Some of the popular languages that Data Scientists use are:\n",
    "\n",
    "1. Python\n",
    "2. R\n",
    "3. SQL\n",
    "4. Julia\n",
    "5. Scala"
   ]
  },
  {
   "cell_type": "markdown",
   "id": "48613f93-ba11-4788-b822-a262395fa609",
   "metadata": {},
   "source": [
    "| Data Science Tools        |\n",
    "|---------------------------|\n",
    "| Jupyter Notebooks          |\n",
    "| RStudio                    |\n",
    "| Apache Zeppelin            |"
   ]
  },
  {
   "cell_type": "markdown",
   "id": "e64d7979-9462-485b-82b4-7e141192a854",
   "metadata": {},
   "source": [
    "### Below are a few examples of evaluating arithmetic expressions in Python.\n",
    "**Addition**:'3+9=12'\n",
    "**Substraction**:'6-2=4\n",
    "**Multiplication**:'3*2=6'\n"
   ]
  },
  {
   "cell_type": "code",
   "execution_count": 3,
   "id": "d3bdc272-3912-4a40-b9e8-93e4d9923b51",
   "metadata": {
    "tags": []
   },
   "outputs": [
    {
     "data": {
      "text/plain": [
       "17"
      ]
     },
     "execution_count": 3,
     "metadata": {},
     "output_type": "execute_result"
    }
   ],
   "source": [
    "# This is a simple arithmetic expression to multiply then add integers\n",
    "(3 * 4) + 5\n"
   ]
  },
  {
   "cell_type": "code",
   "execution_count": 4,
   "id": "c413309c-a150-460b-b187-9f18d235303f",
   "metadata": {
    "tags": []
   },
   "outputs": [
    {
     "data": {
      "text/plain": [
       "3.3333333333333335"
      ]
     },
     "execution_count": 4,
     "metadata": {},
     "output_type": "execute_result"
    }
   ],
   "source": [
    "# This will convert 200 minutes to hours by diving by 60\n",
    "hours=200/60\n",
    "hours"
   ]
  },
  {
   "cell_type": "markdown",
   "id": "346a6a4c-658c-4973-9f41-9105c40eb7e7",
   "metadata": {},
   "source": [
    "**Objectives:**\n",
    "\n",
    "- List popular languages for Data Science.\n",
    "- Identify key libraries used in Data Science.\n",
    "- Demonstrate arithmetic operations in Python.\n",
    "- Convert units of measurement (e.g., minutes to hours).\n",
    "- Explore data science tools and environments.\n"
   ]
  },
  {
   "cell_type": "markdown",
   "id": "cce07b7f-f8e1-4201-ab79-f41c0e1e6843",
   "metadata": {},
   "source": [
    "## Author\n",
    "Paawani"
   ]
  },
  {
   "cell_type": "code",
   "execution_count": null,
   "id": "9ad332bd-b80e-4b46-813e-0e2ca011ecfa",
   "metadata": {},
   "outputs": [],
   "source": []
  }
 ],
 "metadata": {
  "kernelspec": {
   "display_name": "Python",
   "language": "python",
   "name": "conda-env-python-py"
  },
  "language_info": {
   "codemirror_mode": {
    "name": "ipython",
    "version": 3
   },
   "file_extension": ".py",
   "mimetype": "text/x-python",
   "name": "python",
   "nbconvert_exporter": "python",
   "pygments_lexer": "ipython3",
   "version": "3.7.12"
  }
 },
 "nbformat": 4,
 "nbformat_minor": 5
}
